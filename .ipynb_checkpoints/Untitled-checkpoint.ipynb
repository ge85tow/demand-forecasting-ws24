{
 "cells": [
  {
   "cell_type": "code",
   "execution_count": 52,
   "id": "b3dbb678",
   "metadata": {},
   "outputs": [
    {
     "name": "stdout",
     "output_type": "stream",
     "text": [
      "{'error': {'code': 1008, 'message': 'API key is limited to get history data. Please check our pricing page and upgrade to higher plan.'}}\n"
     ]
    }
   ],
   "source": [
    "import requests\n",
    "import pandas as pd\n",
    "url = \"https://weatherapi-com.p.rapidapi.com/history.json\"\n",
    "\n",
    "querystring = {\"q\":\"Munich\",\"dt\":\"2022-06-09\",\"lang\":\"en\"}\n",
    "\n",
    "headers = {\"X-RapidAPI-Key\": \"d02856e929msh8ed51ab04eda140p1e998fjsn54bcc5666fec\", \"X-RapidAPI-Host\": \"weatherapi-com.p.rapidapi.com\"}\n",
    "\n",
    "response = requests.get(url, headers=headers, params=querystring)\n",
    "\n",
    "print(response.json())"
   ]
  },
  {
   "cell_type": "code",
   "execution_count": 53,
   "id": "0d7b959f",
   "metadata": {
    "scrolled": true
   },
   "outputs": [
    {
     "ename": "KeyError",
     "evalue": "'forecast'",
     "output_type": "error",
     "traceback": [
      "\u001b[0;31m---------------------------------------------------------------------------\u001b[0m",
      "\u001b[0;31mKeyError\u001b[0m                                  Traceback (most recent call last)",
      "Cell \u001b[0;32mIn[53], line 2\u001b[0m\n\u001b[1;32m      1\u001b[0m data\u001b[38;5;241m=\u001b[39mresponse\u001b[38;5;241m.\u001b[39mjson()\n\u001b[0;32m----> 2\u001b[0m day\u001b[38;5;241m=\u001b[39m\u001b[43mdata\u001b[49m\u001b[43m[\u001b[49m\u001b[38;5;124;43m'\u001b[39;49m\u001b[38;5;124;43mforecast\u001b[39;49m\u001b[38;5;124;43m'\u001b[39;49m\u001b[43m]\u001b[49m[\u001b[38;5;124m'\u001b[39m\u001b[38;5;124mforecastday\u001b[39m\u001b[38;5;124m'\u001b[39m][\u001b[38;5;241m0\u001b[39m][\u001b[38;5;124m'\u001b[39m\u001b[38;5;124mday\u001b[39m\u001b[38;5;124m'\u001b[39m]\n\u001b[1;32m      3\u001b[0m maxtemp\u001b[38;5;241m=\u001b[39mday[\u001b[38;5;124m'\u001b[39m\u001b[38;5;124mmaxtemp_c\u001b[39m\u001b[38;5;124m'\u001b[39m]\n\u001b[1;32m      4\u001b[0m mintemp\u001b[38;5;241m=\u001b[39mday[\u001b[38;5;124m'\u001b[39m\u001b[38;5;124mmintemp_c\u001b[39m\u001b[38;5;124m'\u001b[39m]\n",
      "\u001b[0;31mKeyError\u001b[0m: 'forecast'"
     ]
    }
   ],
   "source": [
    "data=response.json()\n",
    "day=data['forecast']['forecastday'][0]['day']\n",
    "maxtemp=day['maxtemp_c']\n",
    "mintemp=day['mintemp_c']\n",
    "humidity=day['avghumidity']\n",
    "text = day['condition']['text']\n",
    "print('maxtemp: ',maxtemp)\n",
    "print('mintemp: ',mintemp)\n",
    "print('humidity: ',humidity)\n",
    "print('text: ',text)"
   ]
  },
  {
   "cell_type": "code",
   "execution_count": 1,
   "id": "d4504c36",
   "metadata": {},
   "outputs": [
    {
     "name": "stdout",
     "output_type": "stream",
     "text": [
      "Failed to retrieve data: 400\n"
     ]
    }
   ],
   "source": [
    "import requests\n",
    "\n",
    "api_key = \"xKWdVlndBSHf8SEtOQHcwbMO7wfCg6BB\"  # Replace with your API key\n",
    "location = \"48.1351,11.5820\"  # Replace with your location\n",
    "start_time = \"2019-06-01T00:00:00Z\"  # Replace with your start time\n",
    "end_time = \"2019-06-30T00:00:00Z\"  # Replace with your end time\n",
    "\n",
    "url = f\"https://api.tomorrow.io/v4/timelines?historical?location={location}&fields=temperature,precipitation,wind,humidity,alerts,visibility&timesteps=1d&startTime={start_time}&endTime={end_time}&apikey={api_key}\"\n",
    "\n",
    "response = requests.get(url)\n",
    "\n",
    "if response.status_code == 200:\n",
    "    data = response.json()\n",
    "    # Process the data as needed\n",
    "    print(data)\n",
    "else:\n",
    "    print(\"Failed to retrieve data:\", response.status_code)"
   ]
  },
  {
   "cell_type": "code",
   "execution_count": 22,
   "id": "3a378d6d",
   "metadata": {},
   "outputs": [],
   "source": [
    "\n",
    "\n",
    "#location = \"48.1351,11.5820\"\n",
    "\n",
    "#fields = [\"temperature\", \"humidity\",\"precipitationAccumulation\",\"windSpeed\",\"windSpeed100\",\"snowAccumulation\"]\n",
    "\n",
    "#start_time = \"2019-06-01T00:00:00Z\"  # June 1st, 2019, at midnight UTC\n",
    "#end_time = \"2019-06-30T23:59:59Z\"    # June 30th, 2019, at 11:59:59 PM UTC\n",
    "\n",
    "API_KEY = 'xKWdVlndBSHf8SEtOQHcwbMO7wfCg6BB'"
   ]
  },
  {
   "cell_type": "code",
   "execution_count": 26,
   "id": "a69cecce",
   "metadata": {},
   "outputs": [
    {
     "ename": "KeyError",
     "evalue": "'data'",
     "output_type": "error",
     "traceback": [
      "\u001b[0;31m---------------------------------------------------------------------------\u001b[0m",
      "\u001b[0;31mKeyError\u001b[0m                                  Traceback (most recent call last)",
      "Cell \u001b[0;32mIn[26], line 43\u001b[0m\n\u001b[1;32m     41\u001b[0m response \u001b[38;5;241m=\u001b[39m requests\u001b[38;5;241m.\u001b[39mpost(\u001b[38;5;124mf\u001b[39m\u001b[38;5;124m'\u001b[39m\u001b[38;5;132;01m{\u001b[39;00mpostHistoricalURL\u001b[38;5;132;01m}\u001b[39;00m\u001b[38;5;124m?apikey=\u001b[39m\u001b[38;5;132;01m{\u001b[39;00mapikey\u001b[38;5;132;01m}\u001b[39;00m\u001b[38;5;124m'\u001b[39m, json\u001b[38;5;241m=\u001b[39mbody)\n\u001b[1;32m     42\u001b[0m data \u001b[38;5;241m=\u001b[39m response\u001b[38;5;241m.\u001b[39mjson()\n\u001b[0;32m---> 43\u001b[0m data \u001b[38;5;241m=\u001b[39m \u001b[43mdata\u001b[49m\u001b[43m[\u001b[49m\u001b[38;5;124;43m\"\u001b[39;49m\u001b[38;5;124;43mdata\u001b[39;49m\u001b[38;5;124;43m\"\u001b[39;49m\u001b[43m]\u001b[49m[\u001b[38;5;124m\"\u001b[39m\u001b[38;5;124mtimelines\u001b[39m\u001b[38;5;124m\"\u001b[39m]\n\u001b[1;32m     45\u001b[0m \u001b[38;5;66;03m# create a dataframe with the response values\u001b[39;00m\n\u001b[1;32m     46\u001b[0m df \u001b[38;5;241m=\u001b[39m pd\u001b[38;5;241m.\u001b[39mDataFrame()\n",
      "\u001b[0;31mKeyError\u001b[0m: 'data'"
     ]
    }
   ],
   "source": []
  },
  {
   "cell_type": "code",
   "execution_count": 57,
   "id": "7a6a8724",
   "metadata": {},
   "outputs": [
    {
     "name": "stdout",
     "output_type": "stream",
     "text": [
      "https://weather.visualcrossing.com/VisualCrossingWebServices/rest/services/timeline/48.1235775%2C%2011.5348097/2019-10-09?unitGroup=metric&elements=datetime%2CdatetimeEpoch%2Ctempmax%2Ctempmin%2Ctemp%2Cfeelslikemax%2Cfeelslikemin%2Chumidity%2Cprecip%2Csnow%2Csnowdepth%2Cwindspeed%2Cwindspeedmean%2Cconditions&include=alerts%2Cdays&key=H85QZ3K9LFNAWQGPYZT3ANK9J&contentType=json\n"
     ]
    }
   ],
   "source": [
    "import requests\n",
    "\n",
    "date=\"2019-10-09\"\n",
    "unit=\"metric\"\n",
    "elements=['datetime','datetimeEpoch','tempmax','tempmin','temp','feelslikemax','feelslikemin','humidity','precip','snow','snowdepth','windspeed','windspeedmean']\n",
    "key='H85QZ3K9LFNAWQGPYZT3ANK9J'\n",
    "#https://weather.visualcrossing.com/VisualCrossingWebServices/rest/services/timeline/48.1235775%2C%2011.5348097/2019-10-09?unitGroup=metric&elements=datetime%2CdatetimeEpoch%2Ctempmax%2Ctempmin%2Ctemp%2Cfeelslikemax%2Cfeelslikemin%2Chumidity%2Cprecip%2Csnow%2Csnowdepth%2Cwindspeed%2Cwindspeedmean%2Cconditions&include=alerts%2Cdays&key=H85QZ3K9LFNAWQGPYZT3ANK9J&contentType=json\n",
    "#2019-10-09?unitGroup=metric&elements=datetime%2CdatetimeEpoch%2Ctempmax%2Ctempmin%2Ctemp%2Cfeelslikemax%2Cfeelslikemin%2Chumidity%2Cprecip%2Csnow%2Csnowdepth%2Cwindspeed%2Cwindspeedmean%2Cconditions&include=alerts%2Cdays&key=H85QZ3K9LFNAWQGPYZT3ANK9J&contentType=json\n",
    "url=\"https://weather.visualcrossing.com/VisualCrossingWebServices/rest/services/timeline/48.1235775%2C%2011.5348097/\"+date+\"?unitGroup=metric&elements=\"\n",
    "i=0\n",
    "for i in range(len(elements)):\n",
    "    url=url+elements[i]+\"%2C\"\n",
    "    i+=1\n",
    "url+=\"conditions&include=alerts%2Cdays&key=\"+key+\"&contentType=json\"\n",
    "print(url)\n",
    "\n",
    "response=requests.get(url)\n"
   ]
  },
  {
   "cell_type": "code",
   "execution_count": 64,
   "id": "116c2109",
   "metadata": {},
   "outputs": [],
   "source": [
    "#print(response.json())\n",
    "import pandas as pd\n",
    "\n",
    "data=response.json()\n",
    "day=data['days'][0]\n",
    "#print(day)\n",
    "df=pd.DataFrame([day])\n",
    "#print(df)\n",
    "#maxtemp=day['maxtemp_c']\n",
    "#mintemp=day['mintemp_c']\n",
    "#humidity=day['avghumidity']\n",
    "#text = day['condition']['text']"
   ]
  },
  {
   "cell_type": "code",
   "execution_count": 65,
   "id": "c7c3dcbe",
   "metadata": {},
   "outputs": [
    {
     "name": "stdout",
     "output_type": "stream",
     "text": [
      "     datetime  datetimeEpoch  tempmax  tempmin  temp  feelslikemax  \\\n",
      "0  2019-10-09     1570572000     16.8      9.1  11.6          16.8   \n",
      "\n",
      "   feelslikemin  humidity  precip  snow  snowdepth  windspeed  windspeedmean  \\\n",
      "0           7.0      87.0  17.257   0.0        0.0       23.7           11.2   \n",
      "\n",
      "               conditions  \n",
      "0  Rain, Partially cloudy  \n"
     ]
    }
   ],
   "source": [
    "print(df)"
   ]
  },
  {
   "cell_type": "code",
   "execution_count": null,
   "id": "7278bf14",
   "metadata": {},
   "outputs": [],
   "source": []
  }
 ],
 "metadata": {
  "kernelspec": {
   "display_name": "Python 3 (ipykernel)",
   "language": "python",
   "name": "python3"
  },
  "language_info": {
   "codemirror_mode": {
    "name": "ipython",
    "version": 3
   },
   "file_extension": ".py",
   "mimetype": "text/x-python",
   "name": "python",
   "nbconvert_exporter": "python",
   "pygments_lexer": "ipython3",
   "version": "3.10.9"
  }
 },
 "nbformat": 4,
 "nbformat_minor": 5
}
